{
 "nbformat": 4,
 "nbformat_minor": 2,
 "metadata": {
  "language_info": {
   "name": "python",
   "codemirror_mode": {
    "name": "ipython",
    "version": 3
   },
   "version": "3.7.5-final"
  },
  "orig_nbformat": 2,
  "file_extension": ".py",
  "mimetype": "text/x-python",
  "name": "python",
  "npconvert_exporter": "python",
  "pygments_lexer": "ipython3",
  "version": 3,
  "kernelspec": {
   "name": "python37564bitd2lconda222e0e5c60a64a3688b81e5eff7c9bcc",
   "display_name": "Python 3.7.5 64-bit ('d2l': conda)"
  }
 },
 "cells": [
  {
   "cell_type": "code",
   "execution_count": 19,
   "metadata": {},
   "outputs": [
    {
     "data": {
      "text/plain": "semester                 F18\nstudent_id            457364\nname                 Youyang\nsection                    8\nhomework1             32.000\nhomework2             40.000\nhomework3             34.000\nhomework4             34.000\nhomework5             42.000\npeer evaluation      150.000\nbonus                    NaN\nquiz_01               29.000\nquiz_02               41.000\nquiz_03               38.000\nquiz_04               46.000\nquiz_05               42.000\nquiz_06               22.000\nquiz_07               31.000\nquiz_08               36.000\nquiz_09               36.000\nquiz_10               40.000\nquiz_11               47.000\nquiz_12               13.000\nquiz_adjustment          NaN\ndrop_lowest_quiz1        -13\ndrop_lowest_quiz2    -22.000\nfinal_exam           123.000\ntotal_score          841.000\nletter_score               B\nName: 0, dtype: object"
     },
     "execution_count": 19,
     "metadata": {},
     "output_type": "execute_result"
    }
   ],
   "source": [
    "import numpy as np\n",
    "import pandas as pd\n",
    "import matplotlib.pyplot as plt\n",
    "\n",
    "df = pd.read_csv('grades.csv')\n",
    "# print(df.head(5))\n",
    "# df.tail(5)\n",
    "# len(df)\n",
    "\n",
    "# Finding out the basic statistical information on Grade dataset\n",
    "pd.options.display.float_format = '{:,.3f}'.format # Limit output to 3 decimal places.\n",
    "df.describe()\n",
    "\n",
    "df.columns = ['semester','student_id', 'name', 'section', 'homework1', 'homework2',\n",
    "              'homework3', 'homework4', 'homework5', 'peer evaluation', 'bonus',\n",
    "              'quiz_01', 'quiz_02', 'quiz_03', 'quiz_04', 'quiz_05', 'quiz_06', 'quiz_07', 'quiz_08',\n",
    "              'quiz_09', 'quiz_10', 'quiz_11', 'quiz_12', 'quiz_adjustment', 'drop_lowest_quiz1',\n",
    "              'drop_lowest_quiz2', 'final_exam', 'total_score', 'letter_score']\n",
    "df.semester\n",
    "df.iloc[0]\n",
    "\n",
    "scoretype_attributes = ['homework1', 'homework2', 'homework3', 'homework4', 'homework5', \n",
    "                    'peer evaluation', 'quiz_01', 'quiz_02', 'quiz_03', 'quiz_04', 'quiz_05', 'quiz_06', 'quiz_07', 'quiz_08',\n",
    "                    'quiz_09', 'quiz_10', 'quiz_11', 'quiz_12', 'quiz_adjustment', 'drop_lowest_quiz1',\n",
    "                    'drop_lowest_quiz2', 'final_exam', 'total_score']\n",
    "\n",
    "for attri in scoretype_attributes:\n",
    "    attri_scaled = attri + 'scaled'\n",
    "    attri_normed_all_semester = attri + 'normed_all_semester'\n",
    "    attri_normed_same_semester = attri + 'normed_same_semester'\n",
    "\n",
    "    df[attri_scaled] = (df.attri - df.attri.min()) / (df.attri.max() - df.attri.min()) * 100\n",
    "    print(df[attri_scaled])\n",
    "\n",
    "    df[attri_normed_all_semester] = df.attri.map(lambda x: (x - np.mean(x)) / np.std(x), axis=0)\n",
    "    print(df[attri_normed_all_semester])\n",
    "\n",
    "    df[attri_normed_same_semester] = \n",
    "    print(df[attri_normed_same_semester])"
   ]
  },
  {
   "cell_type": "code",
   "execution_count": null,
   "metadata": {},
   "outputs": [],
   "source": [
    "plt.figure()\n",
    "plt.subplot(2,2,1)\n",
    "plt.scatter()"
   ]
  },
  {
   "cell_type": "code",
   "execution_count": null,
   "metadata": {},
   "outputs": [],
   "source": []
  }
 ]
}